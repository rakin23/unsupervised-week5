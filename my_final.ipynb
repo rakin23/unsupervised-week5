{
 "cells": [
  {
   "cell_type": "markdown",
   "source": [
    "## Table of Contents:\n",
    "* [Part 1: Project Intro](#part-1)\n",
    "* [Part 2: Exploratory data analysis (EDA)](#part-2)\n",
    "* [Part 3: Data Cleanup](part-3)\n",
    "* [Part 4: Unsupervised Learning Model](#part-4)\n",
    "* [Part 5: Supervised Learning Model](#part-5)\n",
    "* [Part 6: Summary](#part-6)\n",
    "\n",
    "## Part 1: Project Intro <a class=\"anchor\" id=\"part-1\"></a>\n",
    "\n",
    "This project will look at passenger data from the Titanic and attempt to predict which passengers survived.  Thie project is on Kaggle and can be found here - [Kaggle Titanic Project](https://www.kaggle.com/competitions/titanic/overview).\n",
    "\n",
    "The project contains 3 files:\n",
    "1. Training data that includes whether the passenger survive\n",
    "2. Test data that does not include survival info\n",
    "3. Sample solution data that simply predicts that all females survive and all males did not survive\n",
    "\n",
    "## Part 2: Exploratory data analysis (EDA) <a class=\"anchor\" id=\"part-2\"></a>\n",
    "Kaggle provides the following description of the values in the dataset.\n",
    "**Variable: Definition, Key**\n",
    "1. survival: Survival, 0 = No, 1 = Yes\n",
    "2. pclass: Ticket class, 1 = 1st, 2 = 2nd, 3 = 3rd\n",
    "3. sex: Sex\t\n",
    "4. Age: Age in years\t\n",
    "5. sibsp: # of siblings / spouses aboard the Titanic\t\n",
    "6. parch: # of parents / children aboard the Titanic\t\n",
    "7. ticket: Ticket number\t\n",
    "8. fare: Passenger fare\t\n",
    "9. cabin: Cabin number\t\n",
    "10. embarked: Port of Embarkation, C = Cherbourg, Q = Queenstown, S = Southampton\n",
    "\n",
    "To start, let's analyze the dataset we've been given to understand the overall data structure, type of data, outliers, etc.  During this EDA we'll be looking for characteristics of the data that may need to be fixed before we can create a learning model based on it."
   ],
   "metadata": {
    "collapsed": false
   },
   "id": "174d894332db1645"
  },
  {
   "cell_type": "code",
   "outputs": [
    {
     "name": "stdout",
     "output_type": "stream",
     "text": [
      "TEST DATA:\n",
      "   PassengerId  Pclass                                          Name     Sex  \\\n",
      "0          892       3                              Kelly, Mr. James    male   \n",
      "1          893       3              Wilkes, Mrs. James (Ellen Needs)  female   \n",
      "2          894       2                     Myles, Mr. Thomas Francis    male   \n",
      "3          895       3                              Wirz, Mr. Albert    male   \n",
      "4          896       3  Hirvonen, Mrs. Alexander (Helga E Lindqvist)  female   \n",
      "\n",
      "    Age  SibSp  Parch   Ticket     Fare Cabin Embarked  \n",
      "0  34.5      0      0   330911   7.8292   NaN        Q  \n",
      "1  47.0      1      0   363272   7.0000   NaN        S  \n",
      "2  62.0      0      0   240276   9.6875   NaN        Q  \n",
      "3  27.0      0      0   315154   8.6625   NaN        S  \n",
      "4  22.0      1      1  3101298  12.2875   NaN        S  \n",
      "<class 'pandas.core.frame.DataFrame'>\n",
      "RangeIndex: 418 entries, 0 to 417\n",
      "Data columns (total 11 columns):\n",
      " #   Column       Non-Null Count  Dtype  \n",
      "---  ------       --------------  -----  \n",
      " 0   PassengerId  418 non-null    int64  \n",
      " 1   Pclass       418 non-null    int64  \n",
      " 2   Name         418 non-null    object \n",
      " 3   Sex          418 non-null    object \n",
      " 4   Age          332 non-null    float64\n",
      " 5   SibSp        418 non-null    int64  \n",
      " 6   Parch        418 non-null    int64  \n",
      " 7   Ticket       418 non-null    object \n",
      " 8   Fare         417 non-null    float64\n",
      " 9   Cabin        91 non-null     object \n",
      " 10  Embarked     418 non-null    object \n",
      "dtypes: float64(2), int64(4), object(5)\n",
      "memory usage: 36.1+ KB\n",
      "None\n",
      "TRAIN DATA:\n",
      "   PassengerId  Survived  Pclass  \\\n",
      "0            1         0       3   \n",
      "1            2         1       1   \n",
      "2            3         1       3   \n",
      "3            4         1       1   \n",
      "4            5         0       3   \n",
      "\n",
      "                                                Name     Sex   Age  SibSp  \\\n",
      "0                            Braund, Mr. Owen Harris    male  22.0      1   \n",
      "1  Cumings, Mrs. John Bradley (Florence Briggs Th...  female  38.0      1   \n",
      "2                             Heikkinen, Miss. Laina  female  26.0      0   \n",
      "3       Futrelle, Mrs. Jacques Heath (Lily May Peel)  female  35.0      1   \n",
      "4                           Allen, Mr. William Henry    male  35.0      0   \n",
      "\n",
      "   Parch            Ticket     Fare Cabin Embarked  \n",
      "0      0         A/5 21171   7.2500   NaN        S  \n",
      "1      0          PC 17599  71.2833   C85        C  \n",
      "2      0  STON/O2. 3101282   7.9250   NaN        S  \n",
      "3      0            113803  53.1000  C123        S  \n",
      "4      0            373450   8.0500   NaN        S  \n",
      "<class 'pandas.core.frame.DataFrame'>\n",
      "RangeIndex: 891 entries, 0 to 890\n",
      "Data columns (total 12 columns):\n",
      " #   Column       Non-Null Count  Dtype  \n",
      "---  ------       --------------  -----  \n",
      " 0   PassengerId  891 non-null    int64  \n",
      " 1   Survived     891 non-null    int64  \n",
      " 2   Pclass       891 non-null    int64  \n",
      " 3   Name         891 non-null    object \n",
      " 4   Sex          891 non-null    object \n",
      " 5   Age          714 non-null    float64\n",
      " 6   SibSp        891 non-null    int64  \n",
      " 7   Parch        891 non-null    int64  \n",
      " 8   Ticket       891 non-null    object \n",
      " 9   Fare         891 non-null    float64\n",
      " 10  Cabin        204 non-null    object \n",
      " 11  Embarked     889 non-null    object \n",
      "dtypes: float64(2), int64(5), object(5)\n",
      "memory usage: 83.7+ KB\n",
      "None\n",
      "SAMPLE SOLUTION:\n",
      "   PassengerId  Survived\n",
      "0          892         0\n",
      "1          893         1\n",
      "2          894         0\n",
      "3          895         0\n",
      "4          896         1\n",
      "<class 'pandas.core.frame.DataFrame'>\n",
      "RangeIndex: 418 entries, 0 to 417\n",
      "Data columns (total 2 columns):\n",
      " #   Column       Non-Null Count  Dtype\n",
      "---  ------       --------------  -----\n",
      " 0   PassengerId  418 non-null    int64\n",
      " 1   Survived     418 non-null    int64\n",
      "dtypes: int64(2)\n",
      "memory usage: 6.7 KB\n",
      "None\n"
     ]
    }
   ],
   "source": [
    "import numpy as np\n",
    "import matplotlib.pyplot as plt\n",
    "import pandas as pd\n",
    "\n",
    "test_data = pd.read_csv('data/test.csv')\n",
    "train_data = pd.read_csv('data/train.csv')\n",
    "sample_solution_data = pd.read_csv('data/gender_submission.csv')\n",
    "\n",
    "print (\"TEST DATA:\")\n",
    "print (test_data.head())\n",
    "print(test_data.info())\n",
    "\n",
    "print (\"TRAIN DATA:\")\n",
    "print (train_data.head())\n",
    "print (train_data.info())\n",
    "\n",
    "print (\"SAMPLE SOLUTION:\")\n",
    "print (sample_solution_data.head())\n",
    "print (sample_solution_data.info())"
   ],
   "metadata": {
    "collapsed": false,
    "ExecuteTime": {
     "end_time": "2024-02-17T01:41:50.366947Z",
     "start_time": "2024-02-17T01:41:50.344035Z"
    }
   },
   "id": "a1b7e0da20a55461",
   "execution_count": 66
  },
  {
   "cell_type": "markdown",
   "source": [
    "Based on the initial analysis above, I have noticed a few things:\n",
    "1. The names are sometimes quite long, such as \"Hirvonen, Mrs. Alexander (Helga E Lindqvist)\".  It's unclear to me what the additional name in parentheses represents, so I'll have to dig into that.\n",
    "2. The \"Cabin\" data appears to have many \"Nan\" values.  \n",
    "3. The \"Sex\" data has values of \"male\" or \"female\" of type \"object\".  This may benefit from translating the datatype from \"object\" to a binary value for improved ability to use this data later.\n",
    "\n",
    "Those are just a few observations.  Let's look at the data in more depth now."
   ],
   "metadata": {
    "collapsed": false
   },
   "id": "f8c811cecdb7eb33"
  },
  {
   "cell_type": "code",
   "outputs": [
    {
     "data": {
      "text/plain": "       PassengerId    Survived      Pclass         Age       SibSp  \\\ncount   891.000000  891.000000  891.000000  714.000000  891.000000   \nmean    446.000000    0.383838    2.308642   29.699118    0.523008   \nstd     257.353842    0.486592    0.836071   14.526497    1.102743   \nmin       1.000000    0.000000    1.000000    0.420000    0.000000   \n25%     223.500000    0.000000    2.000000   20.125000    0.000000   \n50%     446.000000    0.000000    3.000000   28.000000    0.000000   \n75%     668.500000    1.000000    3.000000   38.000000    1.000000   \nmax     891.000000    1.000000    3.000000   80.000000    8.000000   \n\n            Parch        Fare  \ncount  891.000000  891.000000  \nmean     0.381594   32.204208  \nstd      0.806057   49.693429  \nmin      0.000000    0.000000  \n25%      0.000000    7.910400  \n50%      0.000000   14.454200  \n75%      0.000000   31.000000  \nmax      6.000000  512.329200  ",
      "text/html": "<div>\n<style scoped>\n    .dataframe tbody tr th:only-of-type {\n        vertical-align: middle;\n    }\n\n    .dataframe tbody tr th {\n        vertical-align: top;\n    }\n\n    .dataframe thead th {\n        text-align: right;\n    }\n</style>\n<table border=\"1\" class=\"dataframe\">\n  <thead>\n    <tr style=\"text-align: right;\">\n      <th></th>\n      <th>PassengerId</th>\n      <th>Survived</th>\n      <th>Pclass</th>\n      <th>Age</th>\n      <th>SibSp</th>\n      <th>Parch</th>\n      <th>Fare</th>\n    </tr>\n  </thead>\n  <tbody>\n    <tr>\n      <th>count</th>\n      <td>891.000000</td>\n      <td>891.000000</td>\n      <td>891.000000</td>\n      <td>714.000000</td>\n      <td>891.000000</td>\n      <td>891.000000</td>\n      <td>891.000000</td>\n    </tr>\n    <tr>\n      <th>mean</th>\n      <td>446.000000</td>\n      <td>0.383838</td>\n      <td>2.308642</td>\n      <td>29.699118</td>\n      <td>0.523008</td>\n      <td>0.381594</td>\n      <td>32.204208</td>\n    </tr>\n    <tr>\n      <th>std</th>\n      <td>257.353842</td>\n      <td>0.486592</td>\n      <td>0.836071</td>\n      <td>14.526497</td>\n      <td>1.102743</td>\n      <td>0.806057</td>\n      <td>49.693429</td>\n    </tr>\n    <tr>\n      <th>min</th>\n      <td>1.000000</td>\n      <td>0.000000</td>\n      <td>1.000000</td>\n      <td>0.420000</td>\n      <td>0.000000</td>\n      <td>0.000000</td>\n      <td>0.000000</td>\n    </tr>\n    <tr>\n      <th>25%</th>\n      <td>223.500000</td>\n      <td>0.000000</td>\n      <td>2.000000</td>\n      <td>20.125000</td>\n      <td>0.000000</td>\n      <td>0.000000</td>\n      <td>7.910400</td>\n    </tr>\n    <tr>\n      <th>50%</th>\n      <td>446.000000</td>\n      <td>0.000000</td>\n      <td>3.000000</td>\n      <td>28.000000</td>\n      <td>0.000000</td>\n      <td>0.000000</td>\n      <td>14.454200</td>\n    </tr>\n    <tr>\n      <th>75%</th>\n      <td>668.500000</td>\n      <td>1.000000</td>\n      <td>3.000000</td>\n      <td>38.000000</td>\n      <td>1.000000</td>\n      <td>0.000000</td>\n      <td>31.000000</td>\n    </tr>\n    <tr>\n      <th>max</th>\n      <td>891.000000</td>\n      <td>1.000000</td>\n      <td>3.000000</td>\n      <td>80.000000</td>\n      <td>8.000000</td>\n      <td>6.000000</td>\n      <td>512.329200</td>\n    </tr>\n  </tbody>\n</table>\n</div>"
     },
     "execution_count": 2,
     "metadata": {},
     "output_type": "execute_result"
    }
   ],
   "source": [
    "train_data.describe()"
   ],
   "metadata": {
    "collapsed": false,
    "ExecuteTime": {
     "end_time": "2024-02-15T02:18:00.087365Z",
     "start_time": "2024-02-15T02:18:00.064888Z"
    }
   },
   "id": "51798a790cdb6213",
   "execution_count": 2
  },
  {
   "cell_type": "markdown",
   "source": [
    "Now let's look at each individual value in more detail, starting with passenger ID.  I expect each passenger to have a unique ID, so let's confirm that suspicion.  "
   ],
   "metadata": {
    "collapsed": false
   },
   "id": "b32a5eec4ad576dc"
  },
  {
   "cell_type": "code",
   "outputs": [
    {
     "name": "stdout",
     "output_type": "stream",
     "text": [
      "All passenger IDs are unique: True\n",
      "Passenger ID data has nan values: False\n"
     ]
    }
   ],
   "source": [
    "all_passenger_ids_are_unique = (len(train_data[\"PassengerId\"]) == len(set(train_data[\"PassengerId\"])))\n",
    "print (\"All passenger IDs are unique:\", all_passenger_ids_are_unique)  \n",
    "passenger_id_has_nans = np.isnan(train_data[\"PassengerId\"]).any()\n",
    "print (\"Passenger ID data has nan values:\", passenger_id_has_nans)"
   ],
   "metadata": {
    "collapsed": false,
    "ExecuteTime": {
     "end_time": "2024-02-15T02:30:39.742409Z",
     "start_time": "2024-02-15T02:30:39.739697Z"
    }
   },
   "id": "19d40d39ab8eaf8f",
   "execution_count": 5
  },
  {
   "cell_type": "code",
   "outputs": [
    {
     "name": "stdout",
     "output_type": "stream",
     "text": [
      "Survived data is all 1s or 0s: True\n",
      "Survived data has nan values: False\n"
     ]
    }
   ],
   "source": [
    "survived_data_is_all_1_or_0 = all(val == 0 or val == 1 for val in train_data[\"Survived\"])\n",
    "print (\"Survived data is all 1s or 0s:\", survived_data_is_all_1_or_0)\n",
    "survived_data_has_nans = np.isnan(train_data[\"Survived\"]).any()\n",
    "print (\"Survived data has nan values:\", survived_data_has_nans)"
   ],
   "metadata": {
    "collapsed": false,
    "ExecuteTime": {
     "end_time": "2024-02-15T02:32:41.220758Z",
     "start_time": "2024-02-15T02:32:41.218352Z"
    }
   },
   "id": "dc5f4e3b550a9ae8",
   "execution_count": 7
  },
  {
   "cell_type": "code",
   "outputs": [
    {
     "name": "stdout",
     "output_type": "stream",
     "text": [
      "Pclass data has nan values: False\n"
     ]
    },
    {
     "data": {
      "text/plain": "<Figure size 640x480 with 1 Axes>",
      "image/png": "[encoded data removed]"
     },
     "metadata": {},
     "output_type": "display_data"
    }
   ],
   "source": [
    "pclass_data_has_nans = np.isnan(train_data[\"Pclass\"]).any()\n",
    "print (\"Pclass data has nan values:\", pclass_data_has_nans)\n",
    "\n",
    "plt.hist(train_data['Pclass'], bins=[1, 2, 3, 4], edgecolor='black', align='left')\n",
    "plt.title('PClass')\n",
    "plt.xlabel('Values')\n",
    "plt.ylabel('Frequency')\n",
    "plt.xticks([1,2,3])\n",
    "plt.show()"
   ],
   "metadata": {
    "collapsed": false,
    "ExecuteTime": {
     "end_time": "2024-02-16T23:06:57.087008Z",
     "start_time": "2024-02-16T23:06:57.037991Z"
    }
   },
   "id": "8843a3a6fd21f1d5",
   "execution_count": 16
  },
  {
   "cell_type": "code",
   "outputs": [
    {
     "name": "stdout",
     "output_type": "stream",
     "text": [
      "Sex data is all either male or female: True\n"
     ]
    }
   ],
   "source": [
    "sex_data_is_all_male_or_female = all(val == 'male' or val == 'female' for val in train_data[\"Sex\"])\n",
    "print (\"Sex data is all either male or female:\", sex_data_is_all_male_or_female)"
   ],
   "metadata": {
    "collapsed": false,
    "ExecuteTime": {
     "end_time": "2024-02-15T02:41:13.500579Z",
     "start_time": "2024-02-15T02:41:13.496119Z"
    }
   },
   "id": "9638e309f534148a",
   "execution_count": 14
  },
  {
   "cell_type": "code",
   "outputs": [
    {
     "name": "stdout",
     "output_type": "stream",
     "text": [
      "Age data has nan values: True\n",
      "Age data has 177 nan entries out of 891 total, so 19.87 % are nan\n"
     ]
    }
   ],
   "source": [
    "age_data_has_nans = np.isnan(train_data[\"Age\"]).any()\n",
    "print (\"Age data has nan values:\", age_data_has_nans)\n",
    "num_nan_age_data_entries = np.isnan(train_data[\"Age\"]).sum()\n",
    "print (\"Age data has\", num_nan_age_data_entries, \"nan entries out of\", len(train_data[\"Age\"]), \"total, so\", round(100 * num_nan_age_data_entries / len(train_data[\"Age\"]),2), \"% are nan\")"
   ],
   "metadata": {
    "collapsed": false,
    "ExecuteTime": {
     "end_time": "2024-02-15T02:45:28.642760Z",
     "start_time": "2024-02-15T02:45:28.640498Z"
    }
   },
   "id": "4efb93d1547482ab",
   "execution_count": 22
  },
  {
   "cell_type": "code",
   "outputs": [
    {
     "name": "stdout",
     "output_type": "stream",
     "text": [
      "SibSp data has nan values: False\n",
      "SibSp data are all whole numbers: True\n"
     ]
    },
    {
     "data": {
      "text/plain": "<Figure size 640x480 with 1 Axes>",
      "image/png": "[encoded data removed]"
     },
     "metadata": {},
     "output_type": "display_data"
    }
   ],
   "source": [
    "sibsp_data_has_nans = np.isnan(train_data[\"SibSp\"]).any()\n",
    "print (\"SibSp data has nan values:\", sibsp_data_has_nans)\n",
    "sibsp_data_are_all_whole_numbers = all(isinstance(val, int) or (isinstance(val, float) and val.is_integer()) for val in train_data[\"SibSp\"])\n",
    "print (\"SibSp data are all whole numbers:\", sibsp_data_are_all_whole_numbers)\n",
    "\n",
    "plt.hist(train_data[\"SibSp\"], bins=np.arange(10)-0.5, edgecolor='black', align='mid')\n",
    "plt.title('Num of siblings / spouses aboard')\n",
    "plt.xlabel('Number of siblings/spouses')\n",
    "plt.ylabel('Frequency')\n",
    "plt.xticks(np.arange(9))\n",
    "plt.show()"
   ],
   "metadata": {
    "collapsed": false,
    "ExecuteTime": {
     "end_time": "2024-02-16T23:07:32.523470Z",
     "start_time": "2024-02-16T23:07:32.451543Z"
    }
   },
   "id": "54664dab8e99a407",
   "execution_count": 18
  },
  {
   "cell_type": "code",
   "outputs": [
    {
     "name": "stdout",
     "output_type": "stream",
     "text": [
      "Parch data has nan values: False\n",
      "Parch data are all whole numbers: True\n"
     ]
    },
    {
     "data": {
      "text/plain": "<Figure size 640x480 with 1 Axes>",
      "image/png": "[encoded data removed]"
     },
     "metadata": {},
     "output_type": "display_data"
    }
   ],
   "source": [
    "parch_data_has_nans = np.isnan(train_data[\"Parch\"]).any()\n",
    "print (\"Parch data has nan values:\", parch_data_has_nans)\n",
    "parch_data_are_all_whole_numbers = all(isinstance(val, int) or (isinstance(val, float) and val.is_integer()) for val in train_data[\"Parch\"])\n",
    "print (\"Parch data are all whole numbers:\", parch_data_are_all_whole_numbers)\n",
    "\n",
    "plt.hist(train_data[\"Parch\"], bins=np.arange(8)-0.5, edgecolor='black')\n",
    "plt.title('Num of parents / children aboard')\n",
    "plt.xlabel('Number of parents/children')\n",
    "plt.ylabel('Frequency')\n",
    "plt.xticks(np.arange(7))\n",
    "plt.show()"
   ],
   "metadata": {
    "collapsed": false,
    "ExecuteTime": {
     "end_time": "2024-02-16T23:09:19.504409Z",
     "start_time": "2024-02-16T23:09:19.426084Z"
    }
   },
   "id": "71f70a82947704d2",
   "execution_count": 21
  },
  {
   "cell_type": "code",
   "outputs": [
    {
     "data": {
      "text/plain": "<Figure size 640x480 with 1 Axes>",
      "image/png": "[encoded data removed]"
     },
     "metadata": {},
     "output_type": "display_data"
    },
    {
     "data": {
      "text/plain": "count        891\nunique       681\ntop       347082\nfreq           7\nName: Ticket, dtype: object"
     },
     "execution_count": 26,
     "metadata": {},
     "output_type": "execute_result"
    }
   ],
   "source": [
    "ticket_data_lens = [len(element) for element in train_data[\"Ticket\"]]\n",
    "plt.hist(ticket_data_lens, bins=10, edgecolor='black')\n",
    "plt.title('Length of ticket number')\n",
    "plt.xlabel('Length')\n",
    "plt.ylabel('Frequency')\n",
    "plt.show()\n",
    "\n",
    "train_data[\"Ticket\"].describe()"
   ],
   "metadata": {
    "collapsed": false,
    "ExecuteTime": {
     "end_time": "2024-02-16T23:11:34.461470Z",
     "start_time": "2024-02-16T23:11:34.387933Z"
    }
   },
   "id": "8a5bf2412c6329db",
   "execution_count": 26
  },
  {
   "cell_type": "markdown",
   "source": [
    "The ticket numbers are quite odd.  They vary in length quite a bit, as shown in the histogram above.  Also many passengers share the same ticket number (681 unique numbers out of 891 total).  It's unclear what advantage this data may offer to the analysis.  It's possible that passengers with the same ticket number may be staying in the same cabin as one another, but this is unclear.  "
   ],
   "metadata": {
    "collapsed": false
   },
   "id": "1c3b985692eed5c8"
  },
  {
   "cell_type": "code",
   "outputs": [
    {
     "name": "stdout",
     "output_type": "stream",
     "text": [
      "Fare data has nan values: False\n"
     ]
    },
    {
     "data": {
      "text/plain": "<Figure size 640x480 with 1 Axes>",
      "image/png": "[encoded data removed]"
     },
     "metadata": {},
     "output_type": "display_data"
    }
   ],
   "source": [
    "fare_data_has_nans = np.isnan(train_data[\"Fare\"]).any()\n",
    "print (\"Fare data has nan values:\", fare_data_has_nans)\n",
    "\n",
    "plt.hist(train_data[\"Fare\"], bins=20, edgecolor='black')\n",
    "plt.title('Fare')\n",
    "plt.xlabel('Fare')\n",
    "plt.ylabel('Frequency')\n",
    "plt.show()"
   ],
   "metadata": {
    "collapsed": false,
    "ExecuteTime": {
     "end_time": "2024-02-15T03:12:57.277491Z",
     "start_time": "2024-02-15T03:12:57.200504Z"
    }
   },
   "id": "ce859ee579b76bf",
   "execution_count": 42
  },
  {
   "cell_type": "markdown",
   "source": [
    "\"Cabin\" data: According to the info printed near the top of this notebook, 204 out of 891 (or 22.90%) entries are non-null, meaning that a large majority of passengers do not have cabin data in this data set.  \n",
    "\n",
    "\"Embarked\" data: According to the info printed near the top of this notebook, 889 out of 891 entries are non-null, so we have this data for all passengers except 2."
   ],
   "metadata": {
    "collapsed": false
   },
   "id": "a7ae2eacf624572"
  },
  {
   "cell_type": "code",
   "outputs": [
    {
     "data": {
      "text/plain": "<Figure size 640x480 with 1 Axes>",
      "image/png": "[encoded data removed]"
     },
     "metadata": {},
     "output_type": "display_data"
    }
   ],
   "source": [
    "plt.hist([value for value in train_data[\"Embarked\"] if value is not None], bins=np.arange(4)-0.5, edgecolor='black')\n",
    "plt.title('Port of embarkation')\n",
    "plt.xlabel('Port')\n",
    "plt.ylabel('Frequency')\n",
    "plt.show()"
   ],
   "metadata": {
    "collapsed": false,
    "ExecuteTime": {
     "end_time": "2024-02-16T23:11:55.716087Z",
     "start_time": "2024-02-16T23:11:55.662393Z"
    }
   },
   "id": "1a37ea850b9c461f",
   "execution_count": 27
  },
  {
   "cell_type": "markdown",
   "source": [
    "A large majority of passengers embarked from port \"S\" = Southampton, some embarked from port \"C\" = Cherbourg, and a small minority embarked from port \"Q\" = Queenstown.  \n",
    "\n",
    "## Part 3: Data Cleanup <a class=\"anchor\" id=\"part-3\"></a>\n",
    "\n",
    "Based on the EDA performed above, we can perform some cleanup.\n",
    "* Fill in the 19.87% of passengers that have no age data with a meaningful default\n",
    "* Fill in the 2 passengers that have no embarkation port with a meaningful default\n",
    "* Combine sibling data with parent/child data to reduce the overall number of features\n",
    "* Transform categorical variables into numerical values, including gender (male/female) and embarkation (C,Q,S)"
   ],
   "metadata": {
    "collapsed": false
   },
   "id": "1ec22390d2c6c988"
  },
  {
   "cell_type": "code",
   "outputs": [],
   "source": [
    "def clean_data(data_input):\n",
    "    data = data_input.copy()\n",
    "    # Fill in blank age data with random values using the mean and the standard deviation\n",
    "    age_mean = data[\"Age\"].mean()\n",
    "    age_std = data[\"Age\"].std()\n",
    "    is_null = data[\"Age\"].isnull()\n",
    "    num_null_values = is_null.sum()\n",
    "    rand_age = np.random.randint(age_mean - age_std, age_mean + age_std, size=num_null_values)\n",
    "    data.loc[is_null, \"Age\"] = rand_age\n",
    "    \n",
    "    # Also fill in blank embarkation data using the mode\n",
    "    embarked_mode = data[\"Embarked\"].mode()[0]\n",
    "    data.fillna({\"Embarked\": embarked_mode}, inplace=True)\n",
    "    \n",
    "    # Combine sibling and parent data into one feature, then delete the sibling and parent columns\n",
    "    data[\"Relatives\"] = data[\"SibSp\"] + data[\"Parch\"]\n",
    "    data.drop(['SibSp', 'Parch'], axis=1, inplace=True)\n",
    "    \n",
    "    # Update \"sex\" column to a binary variable in a new column called \"sex_male\" that is 1 if the passenger is male and 0 if female, then delete the original \"sex\" column.\n",
    "    data['Sex_Male'] = (data['Sex'] == 'male').astype(int)\n",
    "    data.drop(['Sex'], axis=1, inplace=True)\n",
    "    \n",
    "    # Create 3 new columns for the embarked values of 'C', 'Q', and 'S', then delete the original 'Embarked' column.\n",
    "    data['Embarked_C'] = (data['Embarked'] == 'C').astype(int)\n",
    "    data['Embarked_Q'] = (data['Embarked'] == 'Q').astype(int)\n",
    "    data['Embarked_S'] = (data['Embarked'] == 'S').astype(int)\n",
    "    data.drop(['Embarked'], axis=1, inplace=True)\n",
    "    \n",
    "    # Set any blank fares to the mean\n",
    "    fare_mean = data[\"Fare\"].mean()\n",
    "    is_null = data[\"Fare\"].isnull()\n",
    "    data.loc[is_null, \"Fare\"] = fare_mean\n",
    "    \n",
    "    # Drop the name, ticket number, and cabin number, which are all text\n",
    "    data.drop(['Name', 'Ticket', 'Cabin'], axis=1, inplace=True)\n",
    "    \n",
    "    return data\n",
    "\n",
    "train_data_clean = clean_data(train_data)"
   ],
   "metadata": {
    "collapsed": false,
    "ExecuteTime": {
     "end_time": "2024-02-17T01:41:59.233454Z",
     "start_time": "2024-02-17T01:41:59.228836Z"
    }
   },
   "id": "4fd1b83b49da0be",
   "execution_count": 67
  },
  {
   "cell_type": "markdown",
   "source": [
    "Now that the data has been cleaned, let's normalize the numerical data using Standard Scaler."
   ],
   "metadata": {
    "collapsed": false
   },
   "id": "2f8fff4c2138a83b"
  },
  {
   "cell_type": "code",
   "outputs": [],
   "source": [
    "from sklearn.preprocessing import StandardScaler\n",
    "\n",
    "def scale_data(data_input):\n",
    "    data = data_input.copy()\n",
    "    data_numerical_features = list(data.select_dtypes(include=['int64', 'float64']).columns)\n",
    "    standard_scaler = StandardScaler()\n",
    "    data[data_numerical_features] = standard_scaler.fit_transform(data[data_numerical_features])\n",
    "    return data\n",
    "    \n",
    "train_data_clean_without_survived = train_data_clean.drop(['Survived'], axis=1)\n",
    "train_data_scaled = scale_data(train_data_clean_without_survived)\n",
    "train_data_scaled['Survived'] = train_data['Survived'] # Add back in the unscaled \"survived\" data"
   ],
   "metadata": {
    "collapsed": false,
    "ExecuteTime": {
     "end_time": "2024-02-17T01:42:02.561779Z",
     "start_time": "2024-02-17T01:42:02.552817Z"
    }
   },
   "id": "584ea16ef741f86d",
   "execution_count": 68
  },
  {
   "cell_type": "markdown",
   "source": [
    "## Part 4: Unsupervised Learning Model <a class=\"anchor\" id=\"part-4\"></a>\n",
    "Now that we've explored the data, performed data cleanup, and scaled the numerical data the next step is to build a model from the training data to use on the test data.  \n",
    "\n",
    "** An unsupervised model will likely perform poorly on this data **\n",
    "In this project I am trying to perform the classification task of predicting whether a passenger survives or not (binary \"yes\" or \"no\").  A supervised model will likely be the best fit for this task.  However I will first create an unsupervised learning model to see how it performs before looking at a few supervised learning models.\n",
    "\n",
    "The unsupervised model I will build will use a KMeans clustering approach to cluster the data together.  An ideal solution would find 2 distinct clusters to indicate the group of passengers that survived and those that didn't.  However, with an unsupervised approach we may discover other clusters in the data that aren't necessarily the ones we're looking for since there's no way to tell the clustering algorithm specifically what we're looking for.  For example, it's possible that it will cluster passengers together based on their economic status or something entirely unexpected rather than clustering together passengers that are likely to survive.  Let's check it out.  \n",
    "\n",
    "The code below creates an elbow plot of the data to show the inertia vs. the number of clusters.  Inertia is undesirable, so we'd like to see a very low inertia with 2 clusters in the ideal case.  "
   ],
   "metadata": {
    "collapsed": false
   },
   "id": "f1947db84a222204"
  },
  {
   "cell_type": "code",
   "outputs": [
    {
     "data": {
      "text/plain": "<Figure size 1000x500 with 1 Axes>",
      "image/png": "[encoded data removed]"
     },
     "metadata": {},
     "output_type": "display_data"
    }
   ],
   "source": [
    "from sklearn.cluster import KMeans\n",
    "\n",
    "def generate_k_means_plot(data, max_k):\n",
    "    means = []\n",
    "    inertias = []\n",
    "    \n",
    "    for k in range (1, max_k):\n",
    "        kmeans = KMeans(n_clusters=k)\n",
    "        kmeans.fit(data)\n",
    "        means.append(k)\n",
    "        inertias.append(kmeans.inertia_)\n",
    "        \n",
    "    fix = plt.subplots(figsize=(10, 5))\n",
    "    plt.plot(means, inertias, 'o-')\n",
    "    plt.xlabel('Number of clusters')\n",
    "    plt.ylabel('Inertia')\n",
    "    plt.grid(True)\n",
    "    plt.show()\n",
    "    \n",
    "generate_k_means_plot(train_data_scaled.drop(['Survived'], axis=1), max_k=20)"
   ],
   "metadata": {
    "collapsed": false,
    "ExecuteTime": {
     "end_time": "2024-02-17T01:42:06.603263Z",
     "start_time": "2024-02-17T01:42:06.481895Z"
    }
   },
   "id": "488dbada2c5584c7",
   "execution_count": 69
  },
  {
   "cell_type": "markdown",
   "source": [
    "The elbow plot unfortunately does not show an elbow at k=2.  While I am sad about this, it's an expected outcome.  As mentioned above, how would the KMeans algorithm know to cluster together passengers that may survive vs. those who don't since we've not provided it with any info on the desired outcome.  It does show an elbow around k=4.  \n",
    "\n",
    "It's possible that some of those clusters will match closely to the passengers who survived.  Let's go through and create 2^4 = 16 test outputs by assigning each of the 4 clusters to the \"survived\" or \"didn't survive\" category, and see how well each of those submissions do.  \n",
    "\n",
    "Note: The trained KMeans algorithm will not make a \"survived\" vs. \"didn't survive\" prediction.  Instead it can look at new data and determine which is the clusters it would belong in.  So, for example, if we randomly assign cluster number 1 to mean \"survived\" and the trained algorithm predicts that a new unseen passenger would be grouped into cluster number 1, that indicates that the algorithm predicts that passenger will survive.  "
   ],
   "metadata": {
    "collapsed": false
   },
   "id": "70d0d4c775c19120"
  },
  {
   "cell_type": "code",
   "outputs": [
    {
     "name": "stdout",
     "output_type": "stream",
     "text": [
      "[0.6161616161616161, 0.5970819304152637, 0.6363636363636364, 0.6172839506172839, 0.6610549943883277, 0.6419753086419753, 0.6812570145903479, 0.6621773288439955, 0.3378226711560045, 0.31874298540965207, 0.35802469135802467, 0.3389450056116723, 0.38271604938271603, 0.36363636363636365, 0.40291806958473625, 0.3838383838383838]\n",
      "Max accuracy: 0.6812570145903479 with cluster mapping [0, 1, 1, 0]\n"
     ]
    }
   ],
   "source": [
    "from sklearn.metrics import accuracy_score\n",
    "\n",
    "def int_to_binary_list(integer, num_bits):\n",
    "    binary_string = bin(integer)[2:].zfill(num_bits)\n",
    "    binary_list = [int(bit) for bit in binary_string]\n",
    "    return binary_list\n",
    "\n",
    "kmeans = KMeans(n_clusters=4, random_state=42)\n",
    "kmeans.fit(train_data_scaled.drop(['Survived'], axis=1))\n",
    "accuracy = []\n",
    "for i in range(16):\n",
    "    bin_list = int_to_binary_list(i, num_bits=4)\n",
    "    mapped_labels = []\n",
    "    for k in range(len(kmeans.labels_)):\n",
    "        mapped_labels.append(bin_list[kmeans.labels_[k]])\n",
    "    accuracy.append(accuracy_score(train_data_scaled[\"Survived\"], mapped_labels))\n",
    "    \n",
    "print (accuracy)\n",
    "print (\"Max accuracy:\", max(accuracy), \"with cluster mapping\", int_to_binary_list(accuracy.index(max(accuracy)), num_bits=4))"
   ],
   "metadata": {
    "collapsed": false,
    "ExecuteTime": {
     "end_time": "2024-02-17T01:43:21.933129Z",
     "start_time": "2024-02-17T01:43:21.917119Z"
    }
   },
   "id": "473dd4a207524626",
   "execution_count": 72
  },
  {
   "cell_type": "markdown",
   "source": [
    "The best permutation achieved a 68.13% accuracy on the train data.  This used mapping [0, 1, 1, 0], which means mapping clusters 1, 3, and 4 to \"not survived\" and cluster 2 to \"survived\".  Let's use that to predict survival for the test data, submit it to Kaggle, and see how it performs.  "
   ],
   "metadata": {
    "collapsed": false
   },
   "id": "9d232122071f59d9"
  },
  {
   "cell_type": "code",
   "outputs": [],
   "source": [
    "test_data_cleaned = clean_data(test_data)\n",
    "test_data_scaled = scale_data(test_data_cleaned)\n",
    "\n",
    "predictions = kmeans.predict(test_data_scaled)\n",
    "# Apply the mapping that performed best for the training data\n",
    "best_bin_list = [0, 1, 1, 0]\n",
    "mapped_predictions = []\n",
    "for k in range(len(predictions)):\n",
    "    mapped_predictions.append(best_bin_list[predictions[k]])\n",
    "\n",
    "output = pd.DataFrame({'PassengerId': test_data.PassengerId, 'Survived': mapped_predictions})\n",
    "output.to_csv('submission.csv', index=False)"
   ],
   "metadata": {
    "collapsed": false,
    "ExecuteTime": {
     "end_time": "2024-02-17T01:43:53.218981Z",
     "start_time": "2024-02-17T01:43:53.206813Z"
    }
   },
   "id": "bbb70c64f257ebe5",
   "execution_count": 73
  },
  {
   "cell_type": "markdown",
   "source": [
    "This achieved a 63.63% accuracy score.  I am optimistic that we can do better with a supervised model, so let's look at a few.  But before we switch over, let's try increasing k from 4 to 8 and repeating the process above."
   ],
   "metadata": {
    "collapsed": false
   },
   "id": "a44f807568df64a9"
  },
  {
   "cell_type": "code",
   "outputs": [
    {
     "name": "stdout",
     "output_type": "stream",
     "text": [
      "[0.6161616161616161, 0.4478114478114478, 0.5993265993265994, 0.43097643097643096, 0.6498316498316499, 0.48148148148148145, 0.632996632996633, 0.46464646464646464, 0.55331088664422, 0.38496071829405165, 0.5364758698092031, 0.3681257014590348, 0.5869809203142536, 0.4186307519640853, 0.5701459034792368, 0.40179573512906847, 0.6195286195286195, 0.4511784511784512, 0.6026936026936027, 0.43434343434343436, 0.6531986531986532, 0.48484848484848486, 0.6363636363636364, 0.468013468013468, 0.5566778900112234, 0.388327721661055, 0.5398428731762065, 0.37149270482603813, 0.590347923681257, 0.4219977553310887, 0.5735129068462402, 0.4051627384960718, 0.5970819304152637, 0.4287317620650954, 0.5802469135802469, 0.4118967452300786, 0.6307519640852974, 0.4624017957351291, 0.6139169472502806, 0.44556677890011226, 0.5342312008978676, 0.3658810325476992, 0.5173961840628507, 0.3490460157126824, 0.5679012345679012, 0.3995510662177329, 0.5510662177328844, 0.38271604938271603, 0.6004489337822672, 0.43209876543209874, 0.5836139169472503, 0.4152637485970819, 0.6341189674523008, 0.4657687991021324, 0.6172839506172839, 0.4489337822671156, 0.5375982042648709, 0.36924803591470257, 0.5207631874298541, 0.35241301907968575, 0.5712682379349046, 0.40291806958473625, 0.5544332210998878, 0.38608305274971944, 0.6992143658810326, 0.5308641975308642, 0.6823793490460157, 0.5140291806958474, 0.7328843995510662, 0.5645342312008979, 0.7160493827160493, 0.547699214365881, 0.6363636363636364, 0.468013468013468, 0.6195286195286195, 0.4511784511784512, 0.67003367003367, 0.5016835016835017, 0.6531986531986532, 0.48484848484848486, 0.7025813692480359, 0.5342312008978676, 0.6857463524130191, 0.5173961840628507, 0.7362514029180696, 0.5679012345679012, 0.7194163860830527, 0.5510662177328844, 0.6397306397306397, 0.4713804713804714, 0.622895622895623, 0.45454545454545453, 0.6734006734006734, 0.5050505050505051, 0.6565656565656566, 0.4882154882154882, 0.6801346801346801, 0.5117845117845118, 0.6632996632996633, 0.494949494949495, 0.7138047138047138, 0.5454545454545454, 0.696969696969697, 0.5286195286195287, 0.6172839506172839, 0.4489337822671156, 0.6004489337822672, 0.43209876543209874, 0.6509539842873177, 0.4826038159371493, 0.6341189674523008, 0.4657687991021324, 0.6835016835016835, 0.5151515151515151, 0.6666666666666666, 0.4983164983164983, 0.7171717171717171, 0.5488215488215489, 0.7003367003367004, 0.531986531986532, 0.6206509539842873, 0.45230078563411896, 0.6038159371492705, 0.43546576879910215, 0.654320987654321, 0.48597081930415265, 0.6374859708193041, 0.4691358024691358, 0.5308641975308642, 0.36251402918069586, 0.5140291806958474, 0.345679012345679, 0.5645342312008979, 0.3961840628507295, 0.547699214365881, 0.3793490460157127, 0.468013468013468, 0.2996632996632997, 0.4511784511784512, 0.2828282828282828, 0.5016835016835017, 0.3333333333333333, 0.48484848484848486, 0.3164983164983165, 0.5342312008978676, 0.3658810325476992, 0.5173961840628507, 0.3490460157126824, 0.5679012345679012, 0.3995510662177329, 0.5510662177328844, 0.38271604938271603, 0.4713804713804714, 0.30303030303030304, 0.45454545454545453, 0.28619528619528617, 0.5050505050505051, 0.3367003367003367, 0.4882154882154882, 0.31986531986531985, 0.5117845117845118, 0.3434343434343434, 0.494949494949495, 0.3265993265993266, 0.5454545454545454, 0.3771043771043771, 0.5286195286195287, 0.3602693602693603, 0.4489337822671156, 0.28058361391694725, 0.43209876543209874, 0.26374859708193044, 0.4826038159371493, 0.31425364758698093, 0.4657687991021324, 0.29741863075196406, 0.5151515151515151, 0.3468013468013468, 0.4983164983164983, 0.32996632996632996, 0.5488215488215489, 0.38047138047138046, 0.531986531986532, 0.36363636363636365, 0.45230078563411896, 0.2839506172839506, 0.43546576879910215, 0.2671156004489338, 0.48597081930415265, 0.3176206509539843, 0.4691358024691358, 0.30078563411896747, 0.6139169472502806, 0.44556677890011226, 0.5970819304152637, 0.4287317620650954, 0.6475869809203143, 0.4792368125701459, 0.6307519640852974, 0.4624017957351291, 0.5510662177328844, 0.38271604938271603, 0.5342312008978676, 0.3658810325476992, 0.5847362514029181, 0.4163860830527497, 0.5679012345679012, 0.3995510662177329, 0.6172839506172839, 0.4489337822671156, 0.6004489337822672, 0.43209876543209874, 0.6509539842873177, 0.4826038159371493, 0.6341189674523008, 0.4657687991021324, 0.5544332210998878, 0.38608305274971944, 0.5375982042648709, 0.36924803591470257, 0.5881032547699214, 0.41975308641975306, 0.5712682379349046, 0.40291806958473625, 0.5948372615039281, 0.4264870931537598, 0.5780022446689114, 0.409652076318743, 0.6285072951739619, 0.4601571268237935, 0.611672278338945, 0.44332210998877664, 0.531986531986532, 0.36363636363636365, 0.5151515151515151, 0.3468013468013468, 0.5656565656565656, 0.39730639730639733, 0.5488215488215489, 0.38047138047138046, 0.5982042648709316, 0.4298540965207632, 0.5813692480359147, 0.41301907968574636, 0.6318742985409652, 0.46352413019079686, 0.6150392817059483, 0.44668911335578004, 0.5353535353535354, 0.367003367003367, 0.5185185185185185, 0.3501683501683502, 0.569023569023569, 0.4006734006734007, 0.5521885521885522, 0.3838383838383838]\n",
      "Max accuracy: 0.7362514029180696 with cluster mapping [0, 1, 0, 1, 0, 1, 0, 0]\n"
     ]
    }
   ],
   "source": [
    "kmeans = KMeans(n_clusters=8, random_state=42)\n",
    "kmeans.fit(train_data_scaled.drop(['Survived'], axis=1))\n",
    "accuracy = []\n",
    "for i in range(256):\n",
    "    bin_list = int_to_binary_list(i, num_bits=8)\n",
    "    mapped_labels = []\n",
    "    for k in range(len(kmeans.labels_)):\n",
    "        mapped_labels.append(bin_list[kmeans.labels_[k]])\n",
    "    accuracy.append(accuracy_score(train_data_scaled[\"Survived\"], mapped_labels))\n",
    "    \n",
    "print (accuracy)\n",
    "print (\"Max accuracy:\", max(accuracy), \"with cluster mapping\", int_to_binary_list(accuracy.index(max(accuracy)), num_bits=8))"
   ],
   "metadata": {
    "collapsed": false,
    "ExecuteTime": {
     "end_time": "2024-02-17T01:44:48.915722Z",
     "start_time": "2024-02-17T01:44:48.816527Z"
    }
   },
   "id": "a726c35102b9289e",
   "execution_count": 74
  },
  {
   "cell_type": "code",
   "outputs": [],
   "source": [
    "test_data_cleaned = clean_data(test_data)\n",
    "test_data_scaled = scale_data(test_data_cleaned)\n",
    "\n",
    "predictions = kmeans.predict(test_data_scaled)\n",
    "# Apply the mapping that performed best for the training data\n",
    "best_bin_list = [0, 1, 0, 1, 0, 1, 0, 0]\n",
    "mapped_predictions = []\n",
    "for k in range(len(predictions)):\n",
    "    mapped_predictions.append(best_bin_list[predictions[k]])\n",
    "\n",
    "output = pd.DataFrame({'PassengerId': test_data.PassengerId, 'Survived': mapped_predictions})\n",
    "output.to_csv('submission.csv', index=False)"
   ],
   "metadata": {
    "collapsed": false,
    "ExecuteTime": {
     "end_time": "2024-02-17T01:45:31.591503Z",
     "start_time": "2024-02-17T01:45:31.577216Z"
    }
   },
   "id": "ab5f83f5875244fd",
   "execution_count": 75
  },
  {
   "cell_type": "markdown",
   "source": [
    "This achieved a decent 72.97% accuracy score on the test data.  "
   ],
   "metadata": {
    "collapsed": false
   },
   "id": "fffeb4d7c8b24eff"
  },
  {
   "cell_type": "code",
   "outputs": [],
   "source": [
    "all_accuracy_scores = {'KMeans' : 72.97}"
   ],
   "metadata": {
    "collapsed": false,
    "ExecuteTime": {
     "end_time": "2024-02-17T02:21:42.733727Z",
     "start_time": "2024-02-17T02:21:42.726261Z"
    }
   },
   "id": "d93d9b8938faa3d0",
   "execution_count": 94
  },
  {
   "cell_type": "markdown",
   "source": [
    "## Part 5: Supervised Learning Model <a class=\"anchor\" id=\"part-5\"></a>\n",
    "\n",
    "In this next section, I'll try a few supervised learning models to see how they performed against the K Means unsupervised algorithm created above.  "
   ],
   "metadata": {
    "collapsed": false
   },
   "id": "90736ca2653615b4"
  },
  {
   "cell_type": "code",
   "outputs": [
    {
     "name": "stdout",
     "output_type": "stream",
     "text": [
      "              precision    recall  f1-score   support\n",
      "\n",
      "           0       0.81      0.87      0.84       157\n",
      "           1       0.79      0.72      0.75       111\n",
      "\n",
      "    accuracy                           0.81       268\n",
      "   macro avg       0.80      0.79      0.80       268\n",
      "weighted avg       0.81      0.81      0.80       268\n"
     ]
    },
    {
     "data": {
      "text/plain": "array([[136,  21],\n       [ 31,  80]])"
     },
     "execution_count": 87,
     "metadata": {},
     "output_type": "execute_result"
    }
   ],
   "source": [
    "from sklearn.model_selection import train_test_split\n",
    "from sklearn.linear_model import LogisticRegression\n",
    "from sklearn.metrics import confusion_matrix\n",
    "from sklearn.metrics import classification_report\n",
    "\n",
    "train_data_cleaned = clean_data(train_data)\n",
    "train_data_clean_without_survived = train_data_clean.drop(['Survived'], axis=1)\n",
    "train_data_scaled = scale_data(train_data_clean_without_survived)\n",
    "\n",
    "X = train_data_scaled\n",
    "y = train_data['Survived']\n",
    "X_train, X_test, y_train, y_test = train_test_split(X, y, test_size=0.3, random_state=42)\n",
    "lr = LogisticRegression(max_iter=1000, random_state=42)\n",
    "lr.fit(X_train, y_train)\n",
    "predictions = lr.predict(X_test)\n",
    "print(classification_report(y_test, predictions))\n",
    "confusion_matrix(y_test, predictions)"
   ],
   "metadata": {
    "collapsed": false,
    "ExecuteTime": {
     "end_time": "2024-02-17T02:07:36.309400Z",
     "start_time": "2024-02-17T02:07:36.290260Z"
    }
   },
   "id": "864ec8a7f34d62ae",
   "execution_count": 87
  },
  {
   "cell_type": "code",
   "outputs": [],
   "source": [
    "test_data_cleaned = clean_data(test_data)\n",
    "test_data_scaled = scale_data(test_data_cleaned)\n",
    "\n",
    "predictions = lr.predict(test_data_scaled)\n",
    "output = pd.DataFrame({'PassengerId': test_data.PassengerId, 'Survived': predictions})\n",
    "output.to_csv('submission.csv', index=False)"
   ],
   "metadata": {
    "collapsed": false,
    "ExecuteTime": {
     "end_time": "2024-02-17T02:08:45.555648Z",
     "start_time": "2024-02-17T02:08:45.537701Z"
    }
   },
   "id": "af40bd14ed3c0ac3",
   "execution_count": 88
  },
  {
   "cell_type": "markdown",
   "source": [
    "After training a logistic regression model on the training dataset, it then achieved a 76.79% accuracy on the test data set, which I obtained by generating the csv file above and submitting it to Kaggle.  "
   ],
   "metadata": {
    "collapsed": false
   },
   "id": "734b709c092dca55"
  },
  {
   "cell_type": "code",
   "outputs": [],
   "source": [
    "all_accuracy_scores['LogReg'] = 76.79"
   ],
   "metadata": {
    "collapsed": false,
    "ExecuteTime": {
     "end_time": "2024-02-17T02:22:40.859916Z",
     "start_time": "2024-02-17T02:22:40.842925Z"
    }
   },
   "id": "d30755939c487587",
   "execution_count": 96
  },
  {
   "cell_type": "markdown",
   "source": [
    "Next I'll look at an SVC model and do hyperparameter tuning to find the best hyperparameters"
   ],
   "metadata": {
    "collapsed": false
   },
   "id": "6d5b5302c176ae8f"
  },
  {
   "cell_type": "code",
   "outputs": [
    {
     "name": "stdout",
     "output_type": "stream",
     "text": [
      "Best Hyperparameters: {'C': 1, 'gamma': 'auto', 'kernel': 'rbf'}\n",
      "Accuracy: 0.8097014925373134\n"
     ]
    }
   ],
   "source": [
    "from sklearn.svm import SVC\n",
    "from sklearn.model_selection import GridSearchCV\n",
    "\n",
    "param_grid = {\n",
    "    'C': [0.1, 1, 10, 100],\n",
    "    'kernel': ['linear', 'rbf', 'poly'],\n",
    "    'gamma': ['scale', 'auto']\n",
    "}\n",
    "\n",
    "svc = SVC(random_state=42)\n",
    "grid_search = GridSearchCV(estimator=svc, param_grid=param_grid, cv=5, scoring='accuracy')\n",
    "grid_search.fit(X_train, y_train)\n",
    "best_params = grid_search.best_params_\n",
    "print(\"Best Hyperparameters:\", best_params)\n",
    "best_svm_model = grid_search.best_estimator_\n",
    "y_pred = best_svm_model.predict(X_test)\n",
    "accuracy = accuracy_score(y_test, y_pred)\n",
    "print(\"Accuracy:\", accuracy)"
   ],
   "metadata": {
    "collapsed": false,
    "ExecuteTime": {
     "end_time": "2024-02-17T02:16:26.368908Z",
     "start_time": "2024-02-17T02:16:24.645345Z"
    }
   },
   "id": "a7d1f4f2d803a97",
   "execution_count": 91
  },
  {
   "cell_type": "code",
   "outputs": [],
   "source": [
    "test_data_cleaned = clean_data(test_data)\n",
    "test_data_scaled = scale_data(test_data_cleaned)\n",
    "\n",
    "predictions = best_svm_model.predict(test_data_scaled)\n",
    "output = pd.DataFrame({'PassengerId': test_data.PassengerId, 'Survived': predictions})\n",
    "output.to_csv('submission.csv', index=False)"
   ],
   "metadata": {
    "collapsed": false,
    "ExecuteTime": {
     "end_time": "2024-02-17T02:20:19.034616Z",
     "start_time": "2024-02-17T02:20:19.015503Z"
    }
   },
   "id": "3168be5ae8b5d069",
   "execution_count": 92
  },
  {
   "cell_type": "markdown",
   "source": [
    "This achieved an accuracy of 77.75% according to Kaggle."
   ],
   "metadata": {
    "collapsed": false
   },
   "id": "7014d381f2b46df"
  },
  {
   "cell_type": "code",
   "outputs": [],
   "source": [
    "all_accuracy_scores['SVC'] = 77.75"
   ],
   "metadata": {
    "collapsed": false,
    "ExecuteTime": {
     "end_time": "2024-02-17T02:22:49.945404Z",
     "start_time": "2024-02-17T02:22:49.928099Z"
    }
   },
   "id": "1cdd716f1584434d",
   "execution_count": 97
  },
  {
   "cell_type": "code",
   "outputs": [
    {
     "name": "stdout",
     "output_type": "stream",
     "text": [
      "Best Hyperparameters: {'max_depth': None, 'min_samples_leaf': 2, 'min_samples_split': 10, 'n_estimators': 200}\n",
      "Accuracy: 0.8022388059701493\n"
     ]
    }
   ],
   "source": [
    "from sklearn.ensemble import RandomForestClassifier\n",
    "\n",
    "rf = RandomForestClassifier(random_state=42)\n",
    "param_grid = {\n",
    "    'n_estimators': [50, 100, 200],\n",
    "    'max_depth': [None, 10, 20],\n",
    "    'min_samples_split': [2, 5, 10],\n",
    "    'min_samples_leaf': [1, 2, 4]\n",
    "}\n",
    "\n",
    "grid_search = GridSearchCV(estimator=rf, param_grid=param_grid, cv=5, scoring='accuracy')\n",
    "grid_search.fit(X_train, y_train)\n",
    "best_params = grid_search.best_params_\n",
    "print(\"Best Hyperparameters:\", best_params)\n",
    "best_rf_model = grid_search.best_estimator_\n",
    "y_pred = best_rf_model.predict(X_test)\n",
    "accuracy = accuracy_score(y_test, y_pred)\n",
    "print(\"Accuracy:\", accuracy)"
   ],
   "metadata": {
    "collapsed": false,
    "ExecuteTime": {
     "end_time": "2024-02-17T02:27:35.502196Z",
     "start_time": "2024-02-17T02:27:09.042794Z"
    }
   },
   "id": "1ed915117651e563",
   "execution_count": 102
  },
  {
   "cell_type": "code",
   "outputs": [],
   "source": [
    "test_data_cleaned = clean_data(test_data)\n",
    "test_data_scaled = scale_data(test_data_cleaned)\n",
    "\n",
    "predictions = best_rf_model.predict(test_data_scaled)\n",
    "output = pd.DataFrame({'PassengerId': test_data.PassengerId, 'Survived': predictions})\n",
    "output.to_csv('submission.csv', index=False)"
   ],
   "metadata": {
    "collapsed": false,
    "ExecuteTime": {
     "end_time": "2024-02-17T02:27:39.411836Z",
     "start_time": "2024-02-17T02:27:39.394965Z"
    }
   },
   "id": "78921162f9c0c90d",
   "execution_count": 103
  },
  {
   "cell_type": "markdown",
   "source": [
    "76.79% accuracy was achieved with the tuned random forest model."
   ],
   "metadata": {
    "collapsed": false
   },
   "id": "bbd1383e11605f6d"
  },
  {
   "cell_type": "code",
   "outputs": [],
   "source": [
    "all_accuracy_scores['Random Forest'] = 76.79"
   ],
   "metadata": {
    "collapsed": false,
    "ExecuteTime": {
     "end_time": "2024-02-17T02:30:17.018001Z",
     "start_time": "2024-02-17T02:30:16.999760Z"
    }
   },
   "id": "95bfdf77fb50a827",
   "execution_count": 106
  },
  {
   "cell_type": "code",
   "outputs": [
    {
     "name": "stdout",
     "output_type": "stream",
     "text": [
      "{'KMeans': 72.97, 'LogReg': 76.79, 'SVC': 77.75, 'Random Forest': 76.79}\n"
     ]
    }
   ],
   "source": [
    "print (all_accuracy_scores)"
   ],
   "metadata": {
    "collapsed": false,
    "ExecuteTime": {
     "end_time": "2024-02-17T02:30:18.749590Z",
     "start_time": "2024-02-17T02:30:18.745513Z"
    }
   },
   "id": "113ad3f76bd462f3",
   "execution_count": 107
  },
  {
   "cell_type": "markdown",
   "source": [
    "## Part 6: Summary <a class=\"anchor\" id=\"part-6\"></a>\n",
    "I used 4 different learning algorithms (1 unsupervised and 3 supervised).  The best accuracy achieved from each of them is displayed in the graph below."
   ],
   "metadata": {
    "collapsed": false
   },
   "id": "619d58807e87fb42"
  },
  {
   "cell_type": "code",
   "outputs": [
    {
     "data": {
      "text/plain": "<BarContainer object of 4 artists>"
     },
     "execution_count": 110,
     "metadata": {},
     "output_type": "execute_result"
    },
    {
     "data": {
      "text/plain": "<Figure size 640x480 with 1 Axes>",
      "image/png": "[encoded data removed]"
     },
     "metadata": {},
     "output_type": "display_data"
    }
   ],
   "source": [
    "plt.ylim(ymin=70, ymax=85)\n",
    "plt.ylabel('Accuracy (%)')\n",
    "plt.bar(all_accuracy_scores.keys(), all_accuracy_scores.values(), 1, color='g')"
   ],
   "metadata": {
    "collapsed": false,
    "ExecuteTime": {
     "end_time": "2024-02-17T02:33:25.098337Z",
     "start_time": "2024-02-17T02:33:25.047484Z"
    }
   },
   "id": "5965b5453632c2b5",
   "execution_count": 110
  },
  {
   "cell_type": "markdown",
   "source": [
    "The 3 supervised algorithms unsurprisingly achieved higher accuracy scores than the unsupervised algorithm for this dataset, and the SVC algorithm performed best with an accuracy of 77.75%.  \n",
    "\n",
    "** Ideas for future improvement **\n",
    "I dropped the \"Name\", \"Ticket\", and \"Cabin\" features earlier because they were text fields, which makes them challenging to work with.  However, there may be some useful information in those fields that I could use to improve the accuracy.  For example, passengers in the same cabin may be more likely to have the same outcome as one another.  I could encode the \"Cabin\" field somehow so that I could make use of this data if I were to do another analysis.  "
   ],
   "metadata": {
    "collapsed": false
   },
   "id": "ed169b95bbee2edc"
  },
  {
   "cell_type": "code",
   "outputs": [],
   "source": [],
   "metadata": {
    "collapsed": false
   },
   "id": "f1ab698e1872788d"
  }
 ],
 "metadata": {
  "kernelspec": {
   "display_name": "Python 3",
   "language": "python",
   "name": "python3"
  },
  "language_info": {
   "codemirror_mode": {
    "name": "ipython",
    "version": 2
   },
   "file_extension": ".py",
   "mimetype": "text/x-python",
   "name": "python",
   "nbconvert_exporter": "python",
   "pygments_lexer": "ipython2",
   "version": "2.7.6"
  }
 },
 "nbformat": 4,
 "nbformat_minor": 5
}
